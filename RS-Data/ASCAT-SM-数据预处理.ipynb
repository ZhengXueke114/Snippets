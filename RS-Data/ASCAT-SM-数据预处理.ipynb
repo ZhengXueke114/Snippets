{
 "cells": [
  {
   "cell_type": "markdown",
   "id": "5444ba28-07c3-407f-a0de-20138eeca140",
   "metadata": {},
   "source": [
    "# ASCAT SM 数据预处理"
   ]
  },
  {
   "cell_type": "markdown",
   "id": "88d2916d-e3ba-4fa1-9c8c-9b2049b33b97",
   "metadata": {},
   "source": [
    "## 导入库"
   ]
  },
  {
   "cell_type": "code",
   "execution_count": 4,
   "id": "211f2387-586f-4a55-83ae-0c6e8a89e183",
   "metadata": {},
   "outputs": [],
   "source": [
    "import netCDF4\n",
    "import numpy as np\n",
    "from pyresample import AreaDefinition, kd_tree, SwathDefinition"
   ]
  },
  {
   "cell_type": "markdown",
   "id": "8ff3ea4b-bfc7-4f0f-b3df-8e945100cf58",
   "metadata": {},
   "source": [
    "## 读数据"
   ]
  },
  {
   "cell_type": "code",
   "execution_count": 5,
   "id": "37c43f00-e04f-4af7-b417-ed04990da761",
   "metadata": {},
   "outputs": [],
   "source": [
    "sm_file = r\"C:\\Datasets\\RS\\Metop-ASCAT-SM-12.5KM\\2018\\W_XX-EUMETSAT-Darmstadt,SURFACE+SATELLITE,METOPB+ASCAT_C_EUMP_20180801013900_30451_eps_o_125_ssm_l2.nc\"\n",
    "\n",
    "sm_obj = netCDF4.Dataset(sm_file)\n",
    "# 关闭netCDF4对数据的自动掩膜和缩放\n",
    "sm_obj.set_auto_mask(False)\n",
    "sm_obj.set_auto_scale(False)\n",
    "\n",
    "lon = sm_obj.variables[\"lon\"][:] * 1e-6\n",
    "lat = sm_obj.variables[\"lat\"][:] * 1e-6\n",
    "wetland_f = sm_obj.variables[\"wetland_flag\"][:]\n",
    "sm_arr = sm_obj.variables[\"soil_moisture\"][:] * 0.01\n",
    "topography_f = sm_obj.variables[\"topography_flag\"][:]\n",
    "sm_error = sm_obj.variables[\"soil_moisture_error\"][:] * 0.01\n",
    "\n",
    "sm_obj.close()"
   ]
  },
  {
   "cell_type": "markdown",
   "id": "18a86af3-952c-4fd2-bf37-2d1ef3c7b4be",
   "metadata": {},
   "source": [
    "## 数据掩膜"
   ]
  },
  {
   "cell_type": "markdown",
   "id": "54455ea1-0525-4754-9cac-d473a3abfeb7",
   "metadata": {},
   "source": [
    "1. 掩膜掉`wetland_flag`大于15%的\n",
    "2. 掩膜掉`topography_flag`大于20的\n",
    "3. 掩膜掉`sm`无效值，乘以0.01后是655.35，直接用大于600判断了\n",
    "4. 掩膜掉`sm_err`大于10%的。`sm`是无效值的地方`sm_err`也是无效值"
   ]
  },
  {
   "cell_type": "code",
   "execution_count": 6,
   "id": "c5ac7ed6-28a3-4d20-9b5b-b4f051e5f0e0",
   "metadata": {},
   "outputs": [],
   "source": [
    "mask_conditions = (sm_error > 10) | (wetland_f > 15) | (topography_f > 20) | (sm_arr > 600)\n",
    "sm_arr_masked = np.where(mask_conditions, np.nan, sm_arr)"
   ]
  },
  {
   "cell_type": "markdown",
   "id": "05cba67e-3739-4fb5-8cf5-237484fe1c98",
   "metadata": {},
   "source": [
    "## 数据重投影"
   ]
  },
  {
   "cell_type": "markdown",
   "id": "0d9166ba-429a-4946-abb0-97cabc843b88",
   "metadata": {},
   "source": [
    "重投影到0.125°间隔的等经纬度网格"
   ]
  },
  {
   "cell_type": "code",
   "execution_count": 7,
   "id": "a95e293c-5b93-416d-89ba-4e022f4eb292",
   "metadata": {},
   "outputs": [],
   "source": [
    "swath = SwathDefinition(lon, lat)\n",
    "grid = AreaDefinition.from_epsg(4326, 0.125)\n",
    "sm_arr_grid = kd_tree.resample_nearest(swath, sm_arr_masked, grid, radius_of_influence=12500, fill_value=np.nan)"
   ]
  },
  {
   "cell_type": "markdown",
   "id": "f0b27b25-568c-4c32-9044-8807ce6b77f2",
   "metadata": {},
   "source": [
    "## 输出到新的nc文件"
   ]
  },
  {
   "cell_type": "markdown",
   "id": "69082d49-da4d-4b5a-b1f3-f9e6f05c0735",
   "metadata": {},
   "source": [
    "写NC文件的套路\n",
    "\n",
    "1. 新建维度\n",
    "2. 新建变量\n",
    "3. 写入变量值"
   ]
  },
  {
   "cell_type": "code",
   "execution_count": 8,
   "id": "5c7d9f5a-28f9-466b-a3db-a63be504884f",
   "metadata": {},
   "outputs": [],
   "source": [
    "grid_lon, grid_lat = grid.get_lonlats()\n",
    "\n",
    "output_obj = netCDF4.Dataset(\"new.nc\", \"w\")\n",
    "\n",
    "output_obj.createDimension(\"lon\", grid_lon.shape[1])\n",
    "output_obj.createDimension(\"lat\", grid_lat.shape[0])\n",
    "\n",
    "output_lon = output_obj.createVariable(\"lon\", \"f4\", (\"lon\",))\n",
    "output_lat = output_obj.createVariable(\"lat\", \"f4\", (\"lat\",))\n",
    "output_sm = output_obj.createVariable(\"sm\", \"f4\", (\"lat\",\"lon\",), fill_value=np.nan)\n",
    "\n",
    "output_sm[:] = sm_arr_grid\n",
    "output_lon[:] = grid_lon[0, :]\n",
    "output_lat[:] = grid_lat[:, 0]\n",
    "\n",
    "output_obj.close()"
   ]
  }
 ],
 "metadata": {
  "kernelspec": {
   "display_name": "Python 3 (ipykernel)",
   "language": "python",
   "name": "python3"
  },
  "language_info": {
   "codemirror_mode": {
    "name": "ipython",
    "version": 3
   },
   "file_extension": ".py",
   "mimetype": "text/x-python",
   "name": "python",
   "nbconvert_exporter": "python",
   "pygments_lexer": "ipython3",
   "version": "3.10.11"
  }
 },
 "nbformat": 4,
 "nbformat_minor": 5
}
