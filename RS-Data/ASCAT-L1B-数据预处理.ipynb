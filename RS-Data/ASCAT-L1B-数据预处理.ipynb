{
 "cells": [
  {
   "cell_type": "markdown",
   "id": "d0cb79be-e2df-480d-bb27-471483f8d100",
   "metadata": {},
   "source": [
    "# ASCAT L1B 数据预处理"
   ]
  },
  {
   "cell_type": "markdown",
   "id": "624c221a-1118-45dc-8767-635978f719ed",
   "metadata": {},
   "source": [
    "## 导入库"
   ]
  },
  {
   "cell_type": "code",
   "execution_count": 2,
   "id": "791d6bf6-322d-44a9-b157-0de77d752680",
   "metadata": {},
   "outputs": [],
   "source": [
    "import netCDF4\n",
    "import numpy as np\n",
    "from pyresample import AreaDefinition, kd_tree, SwathDefinition"
   ]
  },
  {
   "cell_type": "markdown",
   "id": "fb64f2ec-66b3-4020-a2e2-de62aa20cf5b",
   "metadata": {},
   "source": [
    "## 读数据"
   ]
  },
  {
   "cell_type": "code",
   "execution_count": 3,
   "id": "8a14096c-dc2c-40e2-8a4a-94c9c4391de0",
   "metadata": {},
   "outputs": [],
   "source": [
    "l1b_file=r\"C:\\Datasets\\RS\\MetopB-ASCAT-1B-12.5KM\\2022-06--12\\W_XX-EUMETSAT-Darmstadt,SURFACE+SATELLITE,METOPB+ASCAT_C_EUMP_20220601021500_50341_eps_o_125_l1.nc\"\n",
    "\n",
    "l1b_obj = netCDF4.Dataset(l1b_file)\n",
    "# 关闭netCDF4对数据的自动掩膜和缩放\n",
    "l1b_obj.set_auto_mask(False)\n",
    "l1b_obj.set_auto_scale(False)\n",
    "\n",
    "lon = l1b_obj.variables[\"lon\"][:] * 1e-6\n",
    "lat = l1b_obj.variables[\"lat\"][:] * 1e-6\n",
    "sigma0_trip = l1b_obj.variables[\"sigma0_trip\"][:] * 1e-6\n",
    "\n",
    "l1b_obj.close()"
   ]
  },
  {
   "cell_type": "markdown",
   "id": "a5ce6398-ba6e-4dd4-a71c-e1d6c4063271",
   "metadata": {},
   "source": [
    "## 数据掩膜"
   ]
  },
  {
   "cell_type": "markdown",
   "id": "abe28d00-4448-43ed-b873-fdf27283670a",
   "metadata": {},
   "source": [
    "1. 掩膜掉`sigma0`填充值，-2147483648，经过缩放后是-2147.483648，直接用小于-100判断了\n"
   ]
  },
  {
   "cell_type": "code",
   "execution_count": 4,
   "id": "4d87df44-15a4-4e80-9c25-2fcc475f6740",
   "metadata": {},
   "outputs": [],
   "source": [
    "mask_conditions = sigma0_trip < -100\n",
    "sigma0_trip_masked = np.where(mask_conditions, np.nan, sigma0_trip)"
   ]
  },
  {
   "cell_type": "markdown",
   "id": "216588e5-6c13-4d40-9120-60502a7321e7",
   "metadata": {},
   "source": [
    "## 数据重投影"
   ]
  },
  {
   "cell_type": "markdown",
   "id": "80a142c0-006d-4218-b9dd-61ba487b5be5",
   "metadata": {},
   "source": [
    "重投影到0.125°间隔的等经纬度网格"
   ]
  },
  {
   "cell_type": "code",
   "execution_count": 5,
   "id": "b65bea59-682c-43e4-8f69-fb8a6109648d",
   "metadata": {},
   "outputs": [],
   "source": [
    "swath = SwathDefinition(lon, lat)\n",
    "grid = AreaDefinition.from_epsg(4326, 0.125)\n",
    "sigma0_trip_grid = kd_tree.resample_nearest(swath, sigma0_trip_masked, grid, radius_of_influence=12500, fill_value=np.nan)"
   ]
  },
  {
   "cell_type": "markdown",
   "id": "49837440-2f97-47e5-99cb-816865c9da7e",
   "metadata": {},
   "source": [
    "## 输出到新的nc文件"
   ]
  },
  {
   "cell_type": "markdown",
   "id": "bfbf3d5b-82a8-435c-9d00-c087362ef203",
   "metadata": {},
   "source": [
    "写NC文件的套路\n",
    "\n",
    "1. 新建维度\n",
    "2. 新建变量\n",
    "3. 写入变量值"
   ]
  },
  {
   "cell_type": "code",
   "execution_count": 6,
   "id": "2035d725-7551-4262-b8c1-a26df9618f31",
   "metadata": {},
   "outputs": [],
   "source": [
    "grid_lon, grid_lat = grid.get_lonlats()\n",
    "\n",
    "output_obj = netCDF4.Dataset(\"new.nc\", \"w\")\n",
    "\n",
    "output_obj.createDimension(\"lon\", grid_lon.shape[1])\n",
    "output_obj.createDimension(\"lat\", grid_lat.shape[0])\n",
    "\n",
    "output_lon = output_obj.createVariable(\"lon\", \"f4\", (\"lon\",))\n",
    "output_lat = output_obj.createVariable(\"lat\", \"f4\", (\"lat\",))\n",
    "output_sm_fore = output_obj.createVariable(\"sm_fore\", \"f4\", (\"lat\",\"lon\",), fill_value=np.nan, compression='zlib')\n",
    "output_sm_mid = output_obj.createVariable(\"sm_mid\", \"f4\", (\"lat\",\"lon\",), fill_value=np.nan, compression='zlib')\n",
    "output_sm_aft = output_obj.createVariable(\"sm_aft\", \"f4\", (\"lat\",\"lon\",), fill_value=np.nan, compression='zlib')\n",
    "\n",
    "output_sm_fore[:] = sigma0_trip_grid[:, :, 0]\n",
    "output_sm_mid[:] = sigma0_trip_grid[:, :, 1]\n",
    "output_sm_aft[:] = sigma0_trip_grid[:, :, 2]\n",
    "output_lon[:] = grid_lon[0, :]\n",
    "output_lat[:] = grid_lat[:, 0]\n",
    "\n",
    "output_obj.close()"
   ]
  }
 ],
 "metadata": {
  "kernelspec": {
   "display_name": "Python 3 (ipykernel)",
   "language": "python",
   "name": "python3"
  },
  "language_info": {
   "codemirror_mode": {
    "name": "ipython",
    "version": 3
   },
   "file_extension": ".py",
   "mimetype": "text/x-python",
   "name": "python",
   "nbconvert_exporter": "python",
   "pygments_lexer": "ipython3",
   "version": "3.10.11"
  }
 },
 "nbformat": 4,
 "nbformat_minor": 5
}
